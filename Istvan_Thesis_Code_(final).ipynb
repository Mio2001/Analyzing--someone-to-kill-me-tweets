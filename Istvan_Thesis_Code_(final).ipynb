{
  "nbformat": 4,
  "nbformat_minor": 0,
  "metadata": {
    "colab": {
      "provenance": [],
      "toc_visible": true,
      "authorship_tag": "ABX9TyPo7/AcW1pGMh8LV9IV5Y8p",
      "include_colab_link": true
    },
    "kernelspec": {
      "name": "python3",
      "display_name": "Python 3"
    },
    "language_info": {
      "name": "python"
    }
  },
  "cells": [
    {
      "cell_type": "markdown",
      "metadata": {
        "id": "view-in-github",
        "colab_type": "text"
      },
      "source": [
        "<a href=\"https://colab.research.google.com/github/Mio2001/Analyzing-Japanese-Suicidal-Tweets/blob/readme_edit/Istvan_Thesis_Code_(final).ipynb\" target=\"_parent\"><img src=\"https://colab.research.google.com/assets/colab-badge.svg\" alt=\"Open In Colab\"/></a>"
      ]
    },
    {
      "cell_type": "markdown",
      "source": [
        "#Suicide Rate Visualizations"
      ],
      "metadata": {
        "id": "1e8sbpnvL--c"
      }
    },
    {
      "cell_type": "markdown",
      "source": [
        "The necessary libraries for this portion."
      ],
      "metadata": {
        "id": "b8S1M0HdMB-r"
      }
    },
    {
      "cell_type": "code",
      "source": [
        "from google.colab import drive\n",
        "drive.mount('drive')\n",
        "\n",
        "import pandas as pd\n",
        "import numpy as np\n",
        "import matplotlib.pyplot as plt\n",
        "from matplotlib.pyplot import figure"
      ],
      "metadata": {
        "id": "1HJBlFCgMHxB"
      },
      "execution_count": null,
      "outputs": []
    },
    {
      "cell_type": "markdown",
      "source": [
        "Set path to where you want to save images."
      ],
      "metadata": {
        "id": "S3v491MoMJ68"
      }
    },
    {
      "cell_type": "code",
      "source": [
        "image_dir = '/content/drive/MyDrive'"
      ],
      "metadata": {
        "id": "fpLd2N_RMJIj"
      },
      "execution_count": null,
      "outputs": []
    },
    {
      "cell_type": "markdown",
      "source": [
        "Below are lists of the number of suicides by month. The data was obtained from Japan's Ministry of Health, Labour and Welfare's [annual report on suicide statistics](https://www.mhlw.go.jp/stf/seisakunitsuite/bunya/hukushi_kaigo/seikatsuhogo/jisatsu/jisatsu_year.html)."
      ],
      "metadata": {
        "id": "nx9QWVUUMOiq"
      }
    },
    {
      "cell_type": "code",
      "source": [
        "Month = [1.0, 2 ,3, 4, 5, 6, 7, 8, 9, 10, 11, 12]\n",
        "#a list of the number of suicides by month\n",
        "Suicides_2022 = [1716, 1516, 1993, 1812, 2174, 1977, 1867, 1780, 1930, 1772, 1773, 1571]\n",
        "Suicides_2021 = [1754, 1694, 2008, 1850, 1863, 1850, 1718, 1725, 1643, 1639, 1541, 1545]\n",
        "Suicides_2020 = [1686, 1464, 1758, 1507, 1591, 1572, 1865, 1931, 1889, 2230, 1893, 1695]\n",
        "Suicides_2019 = [1684, 1615, 1856, 1814, 1853, 1640, 1793, 1603, 1662, 1539, 1616, 1494]\n",
        "Suicides_2018 = [1641, 1599, 2005, 1825, 1863, 1740, 1725, 1708, 1728, 1793, 1623, 1590]\n",
        "Suicides_2017 = [1815, 1646, 1915, 1940, 2024, 1869, 1837, 1852, 1821, 1642, 1565, 1395]\n",
        "Suicides_2016 = [1851, 1729, 2113, 1880, 2065, 1862, 1862, 1701, 1765, 1820, 1683, 1566]\n",
        "Suicides_2015 = [2057, 1771, 2301, 2094, 2244, 2018, 2068, 1901, 1882, 2016, 1887, 1786]\n",
        "Suicides_2014 = [2079, 1878, 2317, 2229, 2262, 2068, 2024, 2188, 2257, 2233, 2096, 1796]\n",
        "Suicides_2013 = [2453, 2156, 2486, 2383, 2542, 2318, 2293, 2197, 2245, 2164, 2045, 2001]\n",
        "Suicides_2012 = [2268, 2163, 2588, 2437, 2525, 2313, 2413, 2242, 2314, 2426, 2140, 2029]\n",
        "Suicides_2011 = [2287, 2151, 2464, 2711, 3375, 3037, 2813, 2612, 2446, 2402, 2256, 2097]\n",
        "Suicides_2010 = [2536, 2445, 2957, 2585, 2782, 2780, 2873, 2559, 2490, 2446, 2812, 2425]\n",
        "Suicides_2009 = [2667, 2490, 3103, 3066, 3003, 2857, 2783, 2525, 2530, 2811, 2522, 2488]\n",
        "Suicides_2008 = [2542, 2408, 2939, 2854, 2796, 2769, 2652, 2431, 2714, 3092, 2539, 2513]"
      ],
      "metadata": {
        "id": "YaC--jjcMP4q"
      },
      "execution_count": null,
      "outputs": []
    },
    {
      "cell_type": "code",
      "source": [
        "data = {\n",
        "    2022: [1716, 1516, 1993, 1812, 2174, 1977, 1867, 1780, 1930, 1772, 1773, 1571],\n",
        "    2021: [1754, 1694, 2008, 1850, 1863, 1850, 1718, 1725, 1643, 1639, 1541, 1545],\n",
        "    2020: [1686, 1464, 1758, 1507, 1591, 1572, 1865, 1931, 1889, 2230, 1893, 1695],\n",
        "    2019: [1684, 1615, 1856, 1814, 1853, 1640, 1793, 1603, 1662, 1539, 1616, 1494],\n",
        "    2018: [1641, 1599, 2005, 1825, 1863, 1740, 1725, 1708, 1728, 1793, 1623, 1590],\n",
        "    2017: [1815, 1646, 1915, 1940, 2024, 1869, 1837, 1852, 1821, 1642, 1565, 1395],\n",
        "    2016: [1851, 1729, 2113, 1880, 2065, 1862, 1862, 1701, 1765, 1820, 1683, 1566],\n",
        "    2015: [2057, 1771, 2301, 2094, 2244, 2018, 2068, 1901, 1882, 2016, 1887, 1786],\n",
        "    2014: [2079, 1878, 2317, 2229, 2262, 2068, 2024, 2188, 2257, 2233, 2096, 1796],\n",
        "    2013: [2453, 2156, 2486, 2383, 2542, 2318, 2293, 2197, 2245, 2164, 2045, 2001],\n",
        "    2012: [2268, 2163, 2588, 2437, 2525, 2313, 2413, 2242, 2314, 2426, 2140, 2029],\n",
        "    2011: [2287, 2151, 2464, 2711, 3375, 3037, 2813, 2612, 2446, 2402, 2256, 2097],\n",
        "    2010: [2536, 2445, 2957, 2585, 2782, 2780, 2873, 2559, 2490, 2446, 2812, 2425],\n",
        "    2009: [2667, 2490, 3103, 3066, 3003, 2857, 2783, 2525, 2530, 2811, 2522, 2488],\n",
        "    2008: [2542, 2408, 2939, 2854, 2796, 2769, 2652, 2431, 2714, 3092, 2539, 2513]\n",
        "}"
      ],
      "metadata": {
        "id": "M3hoHAlFMRGl"
      },
      "execution_count": null,
      "outputs": []
    },
    {
      "cell_type": "markdown",
      "source": [
        "Calculate the average number of suicides for each month."
      ],
      "metadata": {
        "id": "lcU6_2EhMStZ"
      }
    },
    {
      "cell_type": "code",
      "source": [
        "averages = [sum(data[year][i] for year in data) / len(data) for i in range(12)]\n",
        "months = ['Jan', 'Feb', 'Mar', 'Apr', 'May', 'Jun', 'Jul', 'Aug', 'Sep', 'Oct', 'Nov', 'Dec']"
      ],
      "metadata": {
        "id": "Q4y9yShWMUB3"
      },
      "execution_count": null,
      "outputs": []
    },
    {
      "cell_type": "markdown",
      "source": [
        "Basic exploratory data analysis and visualizations.\n",
        "\n"
      ],
      "metadata": {
        "id": "1gUcC2-TMXwr"
      }
    },
    {
      "cell_type": "code",
      "source": [
        "plt.figure(figsize=(15, 6))\n",
        "plt.plot(months, averages, marker = 'o')\n",
        "plt.title('Monthly Average Suicides (2008-2022)', fontsize=14)\n",
        "\n",
        "for i, avg in enumerate(averages):\n",
        "    plt.text(months[i], avg, f\"{avg:.1f}\", ha='left', va='bottom')\n",
        "\n",
        "plt.xlabel('Month', fontsize=14)\n",
        "plt.ylabel('Suicides', fontsize=14)\n",
        "plt.grid(True)\n",
        "plt.tight_layout()\n",
        "\n",
        "plt.savefig(image_dir + 'Monthly Average Suicides (2008-2022)', dpi=600)"
      ],
      "metadata": {
        "id": "mfRwrwd6MVIs"
      },
      "execution_count": null,
      "outputs": []
    },
    {
      "cell_type": "code",
      "source": [
        "plt.figure(figsize=(15, 6))\n",
        "plt.plot(Month, Suicides_2022, color='red', marker='o')\n",
        "plt.title('Suicides by Month (2022)', fontsize=14)\n",
        "plt.xlabel('Month', fontsize=14)\n",
        "plt.ylabel('Suicides', fontsize=14)\n",
        "plt.ylim([1400, 2200])\n",
        "plt.xticks(np.arange(min(Month), max(Month)+1, 1.0))\n",
        "plt.grid(True)\n",
        "\n",
        "plt.tight_layout()\n",
        "plt.savefig(image_dir + 'Suicides by Month (2022)', dpi=600)"
      ],
      "metadata": {
        "id": "vSyRvlY1MbNn"
      },
      "execution_count": null,
      "outputs": []
    },
    {
      "cell_type": "code",
      "source": [
        "plt.figure(figsize=(15, 6))\n",
        "line3, = plt.plot(Month, Suicides_2022, color = 'green', marker = 'o', label = '2022')\n",
        "line2, = plt.plot(Month, Suicides_2021, color = 'red', marker = 'o', label = '2021')\n",
        "line1, = plt.plot(Month, Suicides_2020, marker = 'o', label = '2020')\n",
        "plt.title('Suicides by Month (2020-2022)', fontsize=14)\n",
        "plt.xlabel('Month', fontsize=14)\n",
        "plt.ylabel('Suicides', fontsize=14)\n",
        "plt.legend(handles=[line1, line2, line3])\n",
        "plt.xticks(np.arange(min(Month), max(Month)+1, 1.0))\n",
        "plt.grid(True)\n",
        "plt.show()\n",
        "\n",
        "plt.savefig(image_dir + 'Suicides by Month (2020-2022)', dpi=600)"
      ],
      "metadata": {
        "id": "PPrAs2C8Mc1m"
      },
      "execution_count": null,
      "outputs": []
    },
    {
      "cell_type": "code",
      "source": [
        "plt.figure(figsize=(16, 10))\n",
        "line3, = plt.plot(Month, Suicides_2022, marker = 'o', label = '2022')\n",
        "line2, = plt.plot(Month, Suicides_2021, marker = 'o', label = '2021')\n",
        "line1, = plt.plot(Month, Suicides_2020, marker = 'o', label = '2020')\n",
        "line6, = plt.plot(Month, Suicides_2019, marker='o', label = '2019')\n",
        "line7, = plt.plot(Month, Suicides_2018, marker='o', label = '2018')\n",
        "line8, = plt.plot(Month, Suicides_2017, marker='o', label = '2017')\n",
        "line9, = plt.plot(Month, Suicides_2016, marker='o', label = '2016')\n",
        "line10, = plt.plot(Month, Suicides_2015, marker='o', label = '2015')\n",
        "line11, = plt.plot(Month, Suicides_2014, marker='o', label = '2014')\n",
        "line12, = plt.plot(Month, Suicides_2013, marker='o', label = '2013')\n",
        "line13, = plt.plot(Month, Suicides_2012, marker='o', label = '2012')\n",
        "line14, = plt.plot(Month, Suicides_2011, marker='o', label = '2011')\n",
        "line15, = plt.plot(Month, Suicides_2010, marker='o', label = '2010')\n",
        "line16, = plt.plot(Month, Suicides_2009, marker='o', label = '2009')\n",
        "line17, = plt.plot(Month, Suicides_2008, marker='o', label = '2008')\n",
        "plt.title('Suicides by Month (2008 - 2022)', fontsize=14)\n",
        "plt.xlabel('Month', fontsize=14)\n",
        "plt.ylabel('Suicides', fontsize=14)\n",
        "plt.legend(handles=[line3, line2, line1, line6, line7, line8, line9, line10, line11, line12, line13, line14, line15, line16, line17])\n",
        "plt.xticks(np.arange(min(Month), max(Month)+1, 1.0))\n",
        "plt.grid(True)\n",
        "plt.show()\n",
        "\n",
        "plt.savefig(image_dir + 'Suicides by Month (2008-2022)', dpi=600)"
      ],
      "metadata": {
        "id": "IP9XIqs5MeLq"
      },
      "execution_count": null,
      "outputs": []
    },
    {
      "cell_type": "markdown",
      "source": [
        "#Scrape Twitter"
      ],
      "metadata": {
        "id": "HFSEs74AK4Cq"
      }
    },
    {
      "cell_type": "markdown",
      "source": [
        "A list of the necessary libraries."
      ],
      "metadata": {
        "id": "qu3UKhXwN76p"
      }
    },
    {
      "cell_type": "code",
      "source": [
        "import pandas as pd\n",
        "import numpy as np\n",
        "import snscrape.modules.twitter as sntwitter\n",
        "import datetime\n",
        "from tqdm.notebook import tqdm_notebook\n",
        "import seaborn as sns\n",
        "import matplotlib.pyplot as plt\n",
        "sns.set_theme(style=\"whitegrid\")\n",
        "import statsmodels.api as sm\n",
        "from calendar import month_name as mn"
      ],
      "metadata": {
        "id": "uBpCYZ1LLCi5"
      },
      "execution_count": null,
      "outputs": []
    },
    {
      "cell_type": "markdown",
      "source": [
        "Mount Google Drive if necessary."
      ],
      "metadata": {
        "id": "d5z-NvBENiSu"
      }
    },
    {
      "cell_type": "code",
      "source": [
        "from google.colab import drive\n",
        "drive.mount('drive')"
      ],
      "metadata": {
        "colab": {
          "base_uri": "https://localhost:8080/"
        },
        "id": "8Hwmpx9bNhvv",
        "outputId": "ef371251-f208-4862-c345-0f1b7076929e"
      },
      "execution_count": null,
      "outputs": [
        {
          "output_type": "stream",
          "name": "stdout",
          "text": [
            "Mounted at drive\n"
          ]
        }
      ]
    },
    {
      "cell_type": "markdown",
      "source": [
        "Install [snscrape](https://github.com/JustAnotherArchivist/snscrape)."
      ],
      "metadata": {
        "id": "9juuB7XHK9Io"
      }
    },
    {
      "cell_type": "code",
      "source": [
        "!pip install git+https://github.com/JustAnotherArchivist/snscrape.git"
      ],
      "metadata": {
        "id": "K1NU4wxEK8ZY"
      },
      "execution_count": null,
      "outputs": []
    },
    {
      "cell_type": "markdown",
      "source": [
        "Define a function that uses the sntwitter library to scrape tweets based on a given query and a specified number of tweets ('n_tweet').\n",
        "\n",
        "The function uses a loop to iterate over the tweets obtained (not exceeding the maximum number of tweets). Inside the loop, it appends the attributes of each tweet to the empty list such as username, language, date, content, etc. This is returned as a pandas DataFrame."
      ],
      "metadata": {
        "id": "ZQ2-uSh2LhSu"
      }
    },
    {
      "cell_type": "code",
      "source": [
        "def tweet_scraper(query, n_tweet):\n",
        "  attributes_container = [] #make an empty list to store the attributes of each tweet\n",
        "  max_tweet = n_tweet #maxminum number of tweets to be scraped\n",
        "\n",
        "  for i,tweet in enumerate(sntwitter.TwitterSearchScraper(query).get_items()):\n",
        "\n",
        "    if i>max_tweet:\n",
        "        break\n",
        "\n",
        "    attributes_container.append([tweet.user.username,\n",
        "                                 tweet.user.verified,\n",
        "                                 tweet.user.created,\n",
        "                                 tweet.user.followersCount,\n",
        "                                 tweet.user.friendsCount,\n",
        "                                 tweet.retweetCount,\n",
        "                                 tweet.lang,\n",
        "                                 tweet.date,\n",
        "                                 tweet.likeCount,\n",
        "                                 tweet.sourceLabel,\n",
        "                                 tweet.id,\n",
        "                                 tweet.content,\n",
        "                                 tweet.hashtags,\n",
        "                                 tweet.conversationId,\n",
        "                                 tweet.inReplyToUser,\n",
        "                                 tweet.coordinates,\n",
        "                                 tweet.place])\n",
        "  return pd.DataFrame(attributes_container, columns=[\"User\",\n",
        "                                                   \"verified\",\n",
        "                                                   \"Date_Created\",\n",
        "                                                   \"Follows_Count\",\n",
        "                                                   \"Friends_Count\",\n",
        "                                                   \"Retweet_Count\",\n",
        "                                                   \"Language\",\n",
        "                                                   \"Date_Tweet\",\n",
        "                                                   \"Number_of_Likes\",\n",
        "                                                   \"Source_of_Tweet\",\n",
        "                                                   \"Tweet_Id\",\n",
        "                                                   \"Tweet\",\n",
        "                                                   \"Hashtags\",\n",
        "                                                   \"Conversation_Id\",\n",
        "                                                   \"In_reply_To\",\n",
        "                                                   \"Coordinates\",\n",
        "                                                   \"Place\"])"
      ],
      "metadata": {
        "id": "KnpthIaTLJLp"
      },
      "execution_count": null,
      "outputs": []
    },
    {
      "cell_type": "markdown",
      "source": [
        "I wanted to find tweets containing the phrase '殺してくれる人' from roughly the past ten years."
      ],
      "metadata": {
        "id": "4PSVxTr6MV3M"
      }
    },
    {
      "cell_type": "code",
      "source": [
        "recruiting_tweets = tweet_scraper('(殺してくれる人) since:2013-01-01 until:2023-01-01', 5)"
      ],
      "metadata": {
        "id": "_3D8tuxPMVTM"
      },
      "execution_count": null,
      "outputs": []
    },
    {
      "cell_type": "code",
      "source": [
        "recruiting_tweets"
      ],
      "metadata": {
        "id": "E_vm7HmkMija"
      },
      "execution_count": null,
      "outputs": []
    },
    {
      "cell_type": "markdown",
      "source": [
        "Now that I have my tweets, I exported the DataFrame to a csv file and copied it to my Google Drive."
      ],
      "metadata": {
        "id": "YlLbRR1WMwHq"
      }
    },
    {
      "cell_type": "code",
      "source": [
        "recruiting_tweets.to_csv('recruiting_tweets.csv')\n",
        "!cp recruiting_tweets.csv \"drive/My Drive/\""
      ],
      "metadata": {
        "id": "08Z9TIZxMu1K"
      },
      "execution_count": null,
      "outputs": []
    },
    {
      "cell_type": "markdown",
      "source": [
        "### Twitter Visualization"
      ],
      "metadata": {
        "id": "-PJo6i9ONacW"
      }
    },
    {
      "cell_type": "markdown",
      "source": [
        "Read in the csv file as a pandas DataFrame."
      ],
      "metadata": {
        "id": "BD5prumErbzv"
      }
    },
    {
      "cell_type": "code",
      "source": [
        "tweets = pd.read_csv('/content/', index_col = 0)"
      ],
      "metadata": {
        "id": "bei2enRkrIGM"
      },
      "execution_count": null,
      "outputs": []
    },
    {
      "cell_type": "code",
      "source": [
        "tweets"
      ],
      "metadata": {
        "id": "lEqfhre3NWZN"
      },
      "execution_count": null,
      "outputs": []
    },
    {
      "cell_type": "markdown",
      "source": [
        "I can see that there is 13,641 tweets in the DataFrame. Now let's see how many have exactly '殺してくれる人' in them. Let's also see how many of the tweets specify that they are 'recruiting' (募集している)."
      ],
      "metadata": {
        "id": "QRJJ1wI1Pe3j"
      }
    },
    {
      "cell_type": "code",
      "source": [
        "df = pd.DataFrame(tweets, columns = ['Tweet', 'Hashtags'])\n",
        "contains = df[tweets['Tweet'].str.contains('殺してくれる人')]\n",
        "print(contains)"
      ],
      "metadata": {
        "id": "kU2IVunHOEjr"
      },
      "execution_count": null,
      "outputs": []
    },
    {
      "cell_type": "code",
      "source": [
        "df = pd.DataFrame(tweets, columns = ['Tweet', 'Hashtags'])\n",
        "contains = df[tweets['Tweet'].str.contains('募集')]\n",
        "print(contains)"
      ],
      "metadata": {
        "id": "kXZKDadhPyaT"
      },
      "execution_count": null,
      "outputs": []
    },
    {
      "cell_type": "markdown",
      "source": [
        "Convert the Date_Tweet column to datetime values."
      ],
      "metadata": {
        "id": "LiZgn5R8SOV8"
      }
    },
    {
      "cell_type": "code",
      "source": [
        "tweets['Date_Tweet'] = pd.to_datetime(tweets.Date_Tweet, format='%Y-%m-%d %H:%M:%S')"
      ],
      "metadata": {
        "id": "yARpl0GhRZdD"
      },
      "execution_count": null,
      "outputs": []
    },
    {
      "cell_type": "markdown",
      "source": [
        "I made separate columns for different aspects of time to make it easier to graph."
      ],
      "metadata": {
        "id": "F44ojGSzTAKj"
      }
    },
    {
      "cell_type": "code",
      "source": [
        "tweets['Hour'] = tweets['Date_Tweet'].dt.hour\n",
        "tweets['Year'] = tweets['Date_Tweet'].dt.year\n",
        "tweets['Month'] = tweets['Date_Tweet'].dt.month\n",
        "tweets['MonthName'] = tweets['Date_Tweet'].dt.month_name()"
      ],
      "metadata": {
        "id": "2qQv2hI6Rghr"
      },
      "execution_count": null,
      "outputs": []
    },
    {
      "cell_type": "markdown",
      "source": [
        "##### Graphs"
      ],
      "metadata": {
        "id": "DGr2NUCzTNYf"
      }
    },
    {
      "cell_type": "code",
      "source": [
        "image_dir = '/content/drive/MyDrive' #path for where you want to save images"
      ],
      "metadata": {
        "id": "1yyvRJZzMGeF"
      },
      "execution_count": null,
      "outputs": []
    },
    {
      "cell_type": "code",
      "source": [
        "plt.figure(figsize=(15, 8))\n",
        "\n",
        "ax=plt.subplot(221)\n",
        "sns.lineplot(tweets.Year.value_counts())\n",
        "ax.set_xlabel('Year')\n",
        "ax.set_ylabel('Count')\n",
        "plt.title('Tweet Count by Year (2013-2022)', fontsize=14)\n",
        "plt.ylim([500, 2000])\n",
        "plt.xticks(np.arange(2013,2023,1))\n",
        "#plt.grid()\n",
        "\n",
        "plt.tight_layout()\n",
        "plt.savefig(image_dir + 'Tweet_Count_Year_Line', dpi=600)"
      ],
      "metadata": {
        "colab": {
          "base_uri": "https://localhost:8080/",
          "height": 447
        },
        "id": "3CKIQd79Rb7d",
        "outputId": "e9dd87e3-0373-4733-9d8b-6e3769cddf68"
      },
      "execution_count": null,
      "outputs": [
        {
          "output_type": "display_data",
          "data": {
            "text/plain": [
              "<Figure size 1500x800 with 1 Axes>"
            ],
            "image/png": "[encoded data removed]"
          },
          "metadata": {}
        }
      ]
    },
    {
      "cell_type": "code",
      "source": [
        "f, ax = plt.subplots(figsize=(15, 10))\n",
        "sns.countplot(x= tweets['Year'])\n",
        "for p in ax.patches:\n",
        "    ax.annotate(int(p.get_height()), (p.get_x()+0.05, p.get_height()+20), fontsize = 12)\n",
        "\n",
        "plt.title('Tweet Count by Year (2013-2022)')\n",
        "plt.savefig(image_dir + 'Tweet_County_Year_Bar');"
      ],
      "metadata": {
        "colab": {
          "base_uri": "https://localhost:8080/",
          "height": 881
        },
        "id": "pbUYZwPiTU9_",
        "outputId": "bd4044e5-08a7-441c-dfc0-625d6a4337cb"
      },
      "execution_count": null,
      "outputs": [
        {
          "output_type": "display_data",
          "data": {
            "text/plain": [
              "<Figure size 1500x1000 with 1 Axes>"
            ],
            "image/png": "[encoded data removed]"
          },
          "metadata": {}
        }
      ]
    },
    {
      "cell_type": "markdown",
      "source": [
        "Here we can see that there is no distinct overall pattern. However, it does seem as though the number rise from June to August and dips in September. It does also look to generally decrease from January to February."
      ],
      "metadata": {
        "id": "2eAclbtCXTyT"
      }
    },
    {
      "cell_type": "code",
      "source": [
        "#group the DataFrame on the values in the columns of 'Year' and 'Month'\n",
        "#size() calculates the number of rows of each group\n",
        "#then resets the index of the resulting series and gives the column name 'count'\n",
        "grouped = tweets.groupby(['Year', 'Month']).size().reset_index(name='count')\n",
        "#new 'grouped' DataFrame that has 'Year', 'Month', and 'count'\n",
        "\n",
        "fig, ax = plt.subplots()\n",
        "for year, group in grouped.groupby('Year'):\n",
        "  group.plot(x='Month', y='count', ax=ax, label=year)\n",
        "ax.set_xlabel('Month')\n",
        "ax.set_ylabel('Frequency')\n",
        "ax.set_title(f'Frequency of Tweets per Month')\n",
        "plt.xticks(range(1,13))\n",
        "plt.ylim([0, 250])\n",
        "#plt.legend()\n",
        "ax.legend().remove()\n",
        "\n",
        "plt.savefig(image_dir + 'Tweet_Frequency_Month')"
      ],
      "metadata": {
        "colab": {
          "base_uri": "https://localhost:8080/"
        },
        "id": "b9IHsu-cTW-2",
        "outputId": "3164198a-f061-4f27-ebd4-9cede3230ad0"
      },
      "execution_count": null,
      "outputs": [
        {
          "output_type": "display_data",
          "data": {
            "text/plain": [
              "<Figure size 640x480 with 1 Axes>"
            ],
            "image/png": "[encoded data removed]"
          },
          "metadata": {}
        }
      ]
    },
    {
      "cell_type": "markdown",
      "source": [
        "#Emotion Mining"
      ],
      "metadata": {
        "id": "NBOmmIHzK_5u"
      }
    },
    {
      "cell_type": "markdown",
      "source": [
        "The following section and code is based off of Patrick Ramos's paper: [Emotion Analysis of Writers and Readers of Japanese Tweets on Vaccinations](chrome-extension://efaidnbmnnnibpcajpcglclefindmkaj/https://aclanthology.org/2022.wassa-1.10.pdf) of which the code can be found [here](https://github.com/Ramos-Ramos/BERT-Japan-vaccination). Some of the descriptions or explanations will be taken directly from the GitHub page where it will be cited as (Ramos 2022).\n",
        "\n",
        "Emotion mining is performed by fine-tuning a pre-trained BERT on a Japanese emotional analysis dataset and using the fine-tuned model and a dataset of tweets about vaccines to infer the emotions of Japanese SNS users towards vaccines (Ramos 2022)."
      ],
      "metadata": {
        "id": "Q6pYlrRwaQn-"
      }
    },
    {
      "cell_type": "markdown",
      "source": [
        "The WRIME dataset will be used for fine-tuning BERT on emotion analysis.\n",
        "\n",
        "WRIME (Dataset of Writers' and Readers' Intensities of Emotion for their Estimation) dataset: dataset for emotional intensity estimation comprised of 43,200 japanese tweets annotated with plutchik's 8 emotions by the posts' writers and 3 reader annotators hired by the dataset authors to read the posts (Ramos 2022).\n",
        "\n",
        "Each post is annotated with following eight emotions (following Plutchik's framework) for both writers and readers:\n",
        "\n",
        "* joy\n",
        "* sadness\n",
        "* anticipation\n",
        "* surprise\n",
        "* anger\n",
        "* fear\n",
        "* disgust\n",
        "* trust\n",
        "\n",
        "Each post can exhibit one or several of the emotions and the intesities are integers from 0 to 3, inclusive (respectively indicating \"none\", \"weak\", \"medium\", and \"strong\"). An example showing the annotation of a writer and the annotations of three readers, taken from the paper's Github, is shown below.\n",
        "\n",
        "\"タイヤがパンクしてた。。いたずらの可能性が高いんだって。。\"\n",
        "\n",
        "(\"The tire of my car was flat. I heard that it might be mischief.\")\n",
        "\n",
        "||Joy\t|Sadness\t|Anticipation\t|Surprise\t|Anger\t|Fear\t|Disgust\t|Trust|\n",
        "|---|---|---|---|---|---|---|---|---|\n",
        "|Writer\t |0\t|3\t|0\t|1\t|3\t|0\t|0\t|0|\n",
        "|Reader 1|0\t|3\t|0\t|3\t|1\t|2\t|1\t|0|\n",
        "|Reader 2|0\t|2\t|0\t|2\t|0\t|0\t|0\t|0|\n",
        "|Reader 3|0\t|2\t|0\t|2\t|0\t|1\t|1\t|0|\n",
        "\n",
        "(Ramos 2022)"
      ],
      "metadata": {
        "id": "lkLg0bSRsuAF"
      }
    },
    {
      "cell_type": "code",
      "execution_count": null,
      "metadata": {
        "id": "zwQ8rUWKdG_7"
      },
      "outputs": [],
      "source": [
        "!wget https://raw.githubusercontent.com/ids-cv/wrime/master/wrime-ver1.tsv"
      ]
    },
    {
      "cell_type": "markdown",
      "source": [
        "Huggingface is needed for the BERT model.\n",
        "\n",
        "['transformers'](https://huggingface.co/docs/transformers/index) provides APIs and tools to download and train pretrained models.\n",
        "\n",
        "['datasets'](https://huggingface.co/docs/datasets/index) is a library for accessing and sharing datasets for NLP tasks.\n",
        "\n",
        "['ja'] specifies the Japanese language support."
      ],
      "metadata": {
        "id": "dIdrnQUnuNeZ"
      }
    },
    {
      "cell_type": "code",
      "source": [
        "pip install -U transformers['ja'] datasets matplotlib"
      ],
      "metadata": {
        "id": "a9Ji09EIdebI"
      },
      "execution_count": null,
      "outputs": []
    },
    {
      "cell_type": "markdown",
      "source": [
        "Necessary imports"
      ],
      "metadata": {
        "id": "l7zfsKbfotOf"
      }
    },
    {
      "cell_type": "code",
      "source": [
        "from datasets import load_dataset\n",
        "from scipy.stats import pearsonr, ks_2samp\n",
        "from sklearn import metrics\n",
        "import torch\n",
        "from transformers import BertJapaneseTokenizer, BertForSequenceClassification, Trainer, TrainingArguments, DataCollatorWithPadding, pipeline\n",
        "from transformers.pipelines.base import KeyDataset\n",
        "from tqdm.notebook import tqdm #progress bar\n",
        "import matplotlib.patches as mpatches\n",
        "\n",
        "from itertools import chain, product\n",
        "from pathlib import Path"
      ],
      "metadata": {
        "id": "XCOfPkYtmklF"
      },
      "execution_count": null,
      "outputs": []
    },
    {
      "cell_type": "code",
      "source": [
        "#imported in the previous section but here for convenience\n",
        "import matplotlib.pyplot as plt\n",
        "import pandas as pd"
      ],
      "metadata": {
        "id": "gJdc-dFsqcp2"
      },
      "execution_count": null,
      "outputs": []
    },
    {
      "cell_type": "code",
      "source": [
        "#same reason as above\n",
        "from google.colab import drive\n",
        "drive.mount('/content/drive')"
      ],
      "metadata": {
        "id": "5wpwZxGequv3"
      },
      "execution_count": null,
      "outputs": []
    },
    {
      "cell_type": "markdown",
      "source": [
        "Load tensorboard to view models after training."
      ],
      "metadata": {
        "id": "GSGRVkB5qlFC"
      }
    },
    {
      "cell_type": "code",
      "source": [
        "%load_ext tensorboard"
      ],
      "metadata": {
        "id": "QliRHLTmqpYQ"
      },
      "execution_count": null,
      "outputs": []
    },
    {
      "cell_type": "markdown",
      "source": [
        "Fill out the form below to choose where to save the datasets and model checkpoints"
      ],
      "metadata": {
        "id": "of8P1sXnr_Yk"
      }
    },
    {
      "cell_type": "code",
      "source": [
        "save_root = '/content/'#@param {'type':'string'}\n",
        "save_root = Path(save_root)"
      ],
      "metadata": {
        "id": "xBd7vl6Mq4YS"
      },
      "execution_count": null,
      "outputs": []
    },
    {
      "cell_type": "markdown",
      "source": [
        "As mentioned, the WRIME dataset has three annotators. Their three scores are averaged to get only one set of reader emotions per data point. The dataset is also split into train, test, and validation sets using the splits provided by the dataset. (Ramos 2022)"
      ],
      "metadata": {
        "id": "sP4n0xCEsTNN"
      }
    },
    {
      "cell_type": "code",
      "source": [
        "emotion_names = ('joy', 'sadness', 'anticipation', 'surprise', 'anger', 'fear', 'disgust', 'trust')\n",
        "wrime_tsv_targets = [f'Writer_{emotion.title()}' for emotion in emotion_names] + \\\n",
        "                    [f'Reader{i}_{emotion.title()}' for i, emotion in product(range(1, 4), emotion_names)]\n",
        "\n",
        "wrime_df = pd.read_csv('wrime-ver1.tsv', sep='\\t')\n",
        "wrime_df = wrime_df.rename(\n",
        "    columns = dict([('Train/Dev/Test', 'split'), ('Sentence', 'text')]) + \\\n",
        "    [(col, col.replace('Saddness', 'Sadness')) for col in wrime_df.columns if 'Saddness' in col]\n",
        ")\n",
        "wrime_df = wrime_df[['split', 'text', *wrime_tsv_targets]]\n",
        "\n",
        "for emotion in emotion_names:\n",
        "  wrime_df[f'Reader_{emotion.title()}'] = wrime_df[[f'Reader{i}_{emotion.title()}' for i in range(1, 4)]].mean(axis = 1)\n",
        "\n",
        "annotators = ('writer', 'reader')\n",
        "wrime_df['label_ids'] = wrime_df[[f'{annotator.title()}_{emotion.title()}' for annotator, emotion in product(annotators, emotion_names)]].values.tolist()\n",
        "wrime_df = wrime_df[['split', 'text', 'label_ids']]\n",
        "\n",
        "for df_split, dataset_split in zip(['train', 'dev', 'test'], ['train', 'validation', 'test']):\n",
        "  wrime_df[wrime_df.split==df_split].drop(columns='split').to_csv(save_root/f'wrime_{dataset_split}.csv', index=False)"
      ],
      "metadata": {
        "id": "4O3JTBLbtmSM"
      },
      "execution_count": null,
      "outputs": []
    },
    {
      "cell_type": "markdown",
      "source": [
        "Now load the dataset."
      ],
      "metadata": {
        "id": "B-w3BF62T1qw"
      }
    },
    {
      "cell_type": "code",
      "source": [
        "wrime = load_dataset('csv', data_files={split:str(save_root/f'wrime_{split}.csv') for split in ['train', 'validation', 'test']})\n",
        "wrime"
      ],
      "metadata": {
        "id": "YoP5P9nfT5yL"
      },
      "execution_count": null,
      "outputs": []
    },
    {
      "cell_type": "markdown",
      "source": [
        "The text has to be tokenized before using BERT. Ramos 2022 used a [tokenizer pre-trained on Japanese text by the Tohoku NLP Lab to tokenize](https://huggingface.co/cl-tohoku/bert-base-japanese-v2) WRIME."
      ],
      "metadata": {
        "id": "KkppS1cFVl1R"
      }
    },
    {
      "cell_type": "code",
      "source": [
        "tokenizer = BertJapaneseTokenizer.from_pretrained('c1-tohoku/bert-base-japanese-v2')\n",
        "\n",
        "def preprocess_function(examples):\n",
        "  examples['label_ids'] = [eval(label_ids) for label_ids in examples['label_ids']]\n",
        "  examples = tokenizer(examples['text'], truncation=True, max_length=512)\n",
        "  return examples\n",
        "\n",
        "tokenized_wrime = wrime.map(preprocess_function, batched=True)"
      ],
      "metadata": {
        "id": "2Wtcs_Tkbfid"
      },
      "execution_count": null,
      "outputs": []
    },
    {
      "cell_type": "code",
      "source": [
        "data_collator = DataCollatorWithPadding(tokenizer=tokenizer, max_length=512)"
      ],
      "metadata": {
        "id": "UInoee_emf9d"
      },
      "execution_count": null,
      "outputs": []
    },
    {
      "cell_type": "markdown",
      "source": [
        "Now load the BERT model - this one is also from [Tohoku NLP lab](https://huggingface.co/cl-tohoku/bert-base-japanese-v2) and is trained on Japanese Wikipedia (Ramos 2022).\n"
      ],
      "metadata": {
        "id": "ujblyYGOp_CP"
      }
    },
    {
      "cell_type": "code",
      "source": [
        "model = BertForSequenceClassification.from_pretrained(\n",
        "    'c1-tohoku/bert-base-japanese-v2'\n",
        "    num_labels=16,\n",
        "    problem_type='regression'\n",
        ")"
      ],
      "metadata": {
        "id": "VhYSpGh3qWfD"
      },
      "execution_count": null,
      "outputs": []
    },
    {
      "cell_type": "markdown",
      "source": [
        "Report mean absolute error during training to measure performance - mean squared error will be used to fine-tune."
      ],
      "metadata": {
        "id": "eOqp-msPrLCQ"
      }
    },
    {
      "cell_type": "code",
      "source": [
        "def compute_metrics(eval_pred):\n",
        "  \"\"\"Computes metrics\"\"\"\n",
        "  logits, labels = eval_pred\n",
        "  return{\n",
        "      'mae' : metrics.mean_absolute_error(y_true=labels, y_pred=logits)\n",
        "  }"
      ],
      "metadata": {
        "id": "bDw1d7nmrVPS"
      },
      "execution_count": null,
      "outputs": []
    },
    {
      "cell_type": "markdown",
      "source": [
        "Begin training."
      ],
      "metadata": {
        "id": "zPm93yqqsBhc"
      }
    },
    {
      "cell_type": "code",
      "source": [
        "training_args = TrainingArguments(\n",
        "    output_dir=save_root / 'bert-base-japanese-v2-wrime-fine-tune',\n",
        "    evaluation_strategy='epoch',\n",
        "    per_device_train_batch_size=32,\n",
        "    per_device_eval_batch_size=32,\n",
        "    learning_rate=2e-5,\n",
        "    weight_decay=0.01,\n",
        "    adam_beta1=0.9,\n",
        "    adam_beta2=0.999,\n",
        "    num_train_epochs=3,\n",
        "    lr_scheduler_type='linear',\n",
        "    warmup_ratio=0.01,\n",
        "    save_strategy='epoch',\n",
        "    report_to='tensorboard'\n",
        ")\n",
        "\n",
        "trainer = Trainer(\n",
        "    model=model,\n",
        "    args=training_args,\n",
        "    data_collater=data_collator,\n",
        "    train_dataset=tokenized_wrime['train'].shuffle(seed=42),\n",
        "    eval_dataset=tokenized_wrime['test'].shuffle(seed=42),\n",
        "    tokenizer=tokenizer,\n",
        "    compute_metrics=compute_metrics\n",
        ")"
      ],
      "metadata": {
        "id": "_0w-ajkMsC6d"
      },
      "execution_count": null,
      "outputs": []
    },
    {
      "cell_type": "code",
      "source": [
        "trainer.train()"
      ],
      "metadata": {
        "id": "yhJeHnZiC4ad"
      },
      "execution_count": null,
      "outputs": []
    },
    {
      "cell_type": "markdown",
      "source": [
        "Tensorboard allows us to look at our metrics."
      ],
      "metadata": {
        "id": "vQqDD1UOMtxr"
      }
    },
    {
      "cell_type": "code",
      "source": [
        "%tensorboard --logdir \"$save_root/bert-base-japanese-v2-wrime-fine-tune/\""
      ],
      "metadata": {
        "id": "yTEpqSr9C-Qy"
      },
      "execution_count": null,
      "outputs": []
    },
    {
      "cell_type": "code",
      "source": [
        "tweets = load_dataset('csv', data_files={'unsupervised':'tweets.csv'})['unsupervised']"
      ],
      "metadata": {
        "id": "YIIUVwwKDb5s"
      },
      "execution_count": null,
      "outputs": []
    },
    {
      "cell_type": "code",
      "source": [
        "emotion_names = ('joy', 'sadness', 'anticipation', 'surprise', 'anger', 'fear', 'disgust', 'trust')\n",
        "annotators = ('writer', 'reader')\n",
        "labels = [f'{annotator}_{emotion}' for annotator, emotion in (product(annotators, emotion_names))]"
      ],
      "metadata": {
        "id": "R9gZUEBFMywU"
      },
      "execution_count": null,
      "outputs": []
    },
    {
      "cell_type": "markdown",
      "source": [
        "The same tokenizer is loaded but the BERT model that was trained earlier will be used."
      ],
      "metadata": {
        "id": "G79oPRDPMzy5"
      }
    },
    {
      "cell_type": "code",
      "source": [
        "model = BertForSequenceClassification.from_pretrained(\n",
        "    save_root/'bert-base-japanese-v2-wrime-fine-tune/checkpoint-3750',\n",
        "    num_labels=16,\n",
        "    id2label={i:label for i, label in enumerate(labels)},\n",
        "    max_length=512\n",
        ")\n",
        "tokenizer = BertJapaneseTokenizer.from_pretrained('c1-tohoku/bert-base-japanese-v2')"
      ],
      "metadata": {
        "id": "-bsdmW_AM05x"
      },
      "execution_count": null,
      "outputs": []
    },
    {
      "cell_type": "code",
      "source": [
        "pipe = pipeline(\n",
        "    'text-classification',\n",
        "    model=model,\n",
        "    tokenizer=tokenizer,\n",
        "    return_all_scores=True,\n",
        "    function_to_apply='none',\n",
        "    device=0 if torch.cuda.is_available() else -1\n",
        ")"
      ],
      "metadata": {
        "id": "SGvODqPJM1wN"
      },
      "execution_count": null,
      "outputs": []
    },
    {
      "cell_type": "code",
      "source": [
        "emotion_scores = pd.DataFrame()"
      ],
      "metadata": {
        "id": "mremhMy5M2ft"
      },
      "execution_count": null,
      "outputs": []
    },
    {
      "cell_type": "markdown",
      "source": [
        "Iterate over the tweets scraped prior and infer the emotion scores from each tweet."
      ],
      "metadata": {
        "id": "17JQfDCQM4O_"
      }
    },
    {
      "cell_type": "code",
      "source": [
        "for out in tqdm(pipe(KeyDataset(tweets, 'Tweet'), batch_size=64)):\n",
        "  emotion_scores = emotion_scores.append(\n",
        "      pd.DataFrame([dict([tuple(label_score.values()) for label_score in out])]),\n",
        "      ignore_index=True\n",
        "  )"
      ],
      "metadata": {
        "id": "RuAvLTmGM5Xe"
      },
      "execution_count": null,
      "outputs": []
    },
    {
      "cell_type": "markdown",
      "source": [
        "Attach the emotion scores to the tweet dataset."
      ],
      "metadata": {
        "id": "LcUti8-jM65J"
      }
    },
    {
      "cell_type": "code",
      "source": [
        "killer_tweets_df = pd.read_csv('tweets.csv')\n",
        "killer_tweets_emotions = pd.concat((killer_tweets_df, emotion_scores), axis='columns')\n",
        "killer_tweets_emotions.to_csv(save_root/'killer_tweets_emotions.csv', index=False)"
      ],
      "metadata": {
        "id": "nkB4GK1wM6oX"
      },
      "execution_count": null,
      "outputs": []
    },
    {
      "cell_type": "markdown",
      "source": [
        "Show the average, standard deviation, and sum of each emotion column."
      ],
      "metadata": {
        "id": "bbvgxVQOM9TK"
      }
    },
    {
      "cell_type": "code",
      "source": [
        "killer_tweets_emotions = pd.read_csv(save_root/'killer_tweets_emotions.csv')"
      ],
      "metadata": {
        "id": "sk5pp6TvM-Px"
      },
      "execution_count": null,
      "outputs": []
    },
    {
      "cell_type": "code",
      "source": [
        "emotion_summary = {'avg':[], 'st_dev':[], 'total':[]}\n",
        "for emotion in labels:\n",
        "  emotion_summary['avg'].append(killer_tweets_emotions[emotion].mean())\n",
        "  emotion_summary['st_dev'].append(killer_tweets_emotions[emotion].std())\n",
        "  emotion_summary['total'].append(killer_tweets_emotions[emotion].sum())\n",
        "emotion_summary = pd.DataFrame(emotion_summary, index=labels)\n",
        "emotion_summary"
      ],
      "metadata": {
        "id": "R2L2ckIDM_Qz"
      },
      "execution_count": null,
      "outputs": []
    },
    {
      "cell_type": "code",
      "source": [
        "emotion_summary.to_csv(save_root/'emotion_summary_1.csv', index=False)"
      ],
      "metadata": {
        "id": "jDREWM9-NAnF"
      },
      "execution_count": null,
      "outputs": []
    },
    {
      "cell_type": "markdown",
      "source": [
        "###Visualize the Results"
      ],
      "metadata": {
        "id": "3rmmiWzPNCY5"
      }
    },
    {
      "cell_type": "code",
      "source": [
        "emotions = ('joy', 'sadness', 'anticipation', 'surprise', 'anger', 'fear', 'disgust', 'trust')\n",
        "annotators = ('writer', 'reader')\n",
        "labels = [f'{ann}_{emo}' for ann, emo in product(annotators, emotions)]\n",
        "writer_labels = [f'writer_{emo}' for emo in emotions]\n",
        "reader_labels = [f'reader_{emo}' for emo in emotions]"
      ],
      "metadata": {
        "id": "BGbjj2jQNEa0"
      },
      "execution_count": null,
      "outputs": []
    },
    {
      "cell_type": "markdown",
      "source": [
        "Distribution of predicted emotion scores for writers and readers (boxplots)."
      ],
      "metadata": {
        "id": "lgARYgTmNFXr"
      }
    },
    {
      "cell_type": "code",
      "source": [
        "labels_no_collate = list(chain.from_iterable(zip(writer_labels, reader_labels)))\n",
        "positions = np.arange(len(emotions))\n",
        "width = 0.2\n",
        "\n",
        "fig, ax = plt.subplots(figsize=(11, 6))\n",
        "\n",
        "for sublabels in (writer_labels, reader_labels):\n",
        "  boxplot = ax.boxplot(\n",
        "      killer_tweets_emotions[sublabels[::-1]],\n",
        "      showmeans=True,\n",
        "      sym='',\n",
        "      vert=False,\n",
        "      widths=0.4,\n",
        "      positions=(positions+width) if sublabels==writer_labels else (positions-width),\n",
        "      patch_artist=True,\n",
        "      boxprops={'color':'black', 'facecolor':'tab:red' if sublabels==writer_labels else 'tab:green'},\n",
        "      whiskerprops={'color':'black'},\n",
        "      capprops={'color':'black'},\n",
        "      medianprops={'color':'black'},\n",
        "      meanprops={'marker':'.', 'markerfacecolor':'black', 'markeredgecolor':'black'}\n",
        "  )\n",
        "\n",
        "writer_patch = mpatches.Patch(color='tab:red', label='Writer')\n",
        "reader_patch = mpatches.Patch(color='tab:green', label = 'Reader')\n",
        "ax.legend(handles=[writer_patch, reader_patch])\n",
        "\n",
        "ax.set_ylabel('Emotion', fontsize=12)\n",
        "ax.set_xlabel('Score', fontsize=12)\n",
        "ax.set_yticks(positions, [emo.title() for emo in emotions[::-1]], fontsize=12)\n",
        "ax.grid(axis='x')\n",
        "\n",
        "plt.savefig(image_dir + 'boxplot_1', dpi=600)\n",
        "\n",
        "plt.show()"
      ],
      "metadata": {
        "id": "3_q9bI9PNGi2"
      },
      "execution_count": null,
      "outputs": []
    },
    {
      "cell_type": "markdown",
      "source": [
        "Q-Q plot"
      ],
      "metadata": {
        "id": "j9zviCkENHvK"
      }
    },
    {
      "cell_type": "code",
      "source": [
        "fig, axs = plt.subplots(2, 4, figsize=(8, 4))\n",
        "\n",
        "for emotion, ax in zip(emotions, axs.flat):\n",
        "  writer_subset = killer_tweets_emotions[f'writer_{emotion}']\n",
        "  writer_quantiles = np.array([writer_subset.quantile(i/100) for i in range(100)])\n",
        "  reader_subset = killer_tweets_emotions[f'reader_{emotion}']\n",
        "  reader_quantiles = np.array([reader_subset.quantile(i/100) for i in range(100)])\n",
        "\n",
        "  ax.plot(writer_quantiles, reader_quantiles, c='black')\n",
        "  ax.set_xticks([0, 1, 2, 2.5], ['0', '1', '2', ''])\n",
        "  ax.set_yticks([0, 1, 2, 2.5], ['0', '1', '2', ''])\n",
        "  ax.grid()\n",
        "  ax.set_title(emotion.title(), fontsize=14)\n",
        "\n",
        "fig.supxlabel('Writer Quantiles', fontsize=14)\n",
        "fig.supylabel('Reader Quantiles', fontsize=14)\n",
        "fig.tight_layout()\n",
        "\n",
        "plt.savefig(image_dir + 'QQ_1', dpi=600)\n",
        "\n",
        "plt.show()"
      ],
      "metadata": {
        "id": "qNggLAXxNIFq"
      },
      "execution_count": null,
      "outputs": []
    }
  ]
}